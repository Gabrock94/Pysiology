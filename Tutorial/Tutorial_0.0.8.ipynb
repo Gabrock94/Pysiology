{
 "cells": [
  {
   "cell_type": "markdown",
   "metadata": {},
   "source": [
    "# Tutorial - Pysyology 0.0.8\n",
    "In this tutorial I will show how to analyze ECG, EMG and EDA signal easily with Pysiology.\n"
   ]
  },
  {
   "cell_type": "markdown",
   "metadata": {},
   "source": [
    "First, we need to import the library.\n",
    "If installed correctly, the version should be printed."
   ]
  },
  {
   "cell_type": "code",
   "execution_count": 1,
   "metadata": {},
   "outputs": [
    {
     "name": "stdout",
     "output_type": "stream",
     "text": [
      "0.0.8\n"
     ]
    }
   ],
   "source": [
    "import matplotlib.pyplot as plt #used for visualization purposes in this tutorial.\n",
    "\n",
    "import pysiology\n",
    "print(pysiology.__version__)"
   ]
  },
  {
   "cell_type": "markdown",
   "metadata": {},
   "source": [
    "For this tutorial, I will use the sample data contained inside the package.\n",
    "We can load it through the sampledata method.\n",
    "\n",
    "Sample data have been recorded using Bitalino Revolution Board at 1000 Hz."
   ]
  },
  {
   "cell_type": "code",
   "execution_count": 2,
   "metadata": {},
   "outputs": [],
   "source": [
    "ECG = pysiology.sampledata.loadsampleECG() #load the sample ECG Signal\n",
    "EMG = pysiology.sampledata.loadsampleEMG() #load the sample EMG Signal\n",
    "GSR = pysiology.sampledata.loadsampleEDA() #load the sample GSR Signal\n",
    "\n",
    "sr = 1000 #samplerate in Hz"
   ]
  },
  {
   "cell_type": "code",
   "execution_count": 3,
   "metadata": {},
   "outputs": [
    {
     "data": {
      "image/png": "[encoded data removed]",
      "text/plain": [
       "<matplotlib.figure.Figure at 0x7fa0796c8ba8>"
      ]
     },
     "metadata": {},
     "output_type": "display_data"
    }
   ],
   "source": [
    "plt.figure(\"Sample data\")\n",
    "plt.subplot(3,1,1)\n",
    "plt.plot(ECG[0:30000])\n",
    "plt.title(\"ECG\")\n",
    "plt.subplot(3,1,2)\n",
    "plt.plot(EMG[0:30000])\n",
    "plt.title(\"EMG\")\n",
    "plt.subplot(3,1,3)\n",
    "plt.plot(GSR[0:30000])\n",
    "plt.title(\"GSR\")\n",
    "plt.tight_layout()"
   ]
  },
  {
   "cell_type": "markdown",
   "metadata": {},
   "source": [
    "Let's say that we have two fake events, A and B, at 10 seconds (10'000 in samples) and 20s (20'000 in samples), and we want to compute the features from the onset of the event to 8 seconds later."
   ]
  },
  {
   "cell_type": "code",
   "execution_count": 4,
   "metadata": {},
   "outputs": [],
   "source": [
    "#We can define the event in the way we prefer. \n",
    "#In this example I will use a 2 x nEvent matrix, containing the name of the event and the onset time.\n",
    "events = [[\"A\",10],\n",
    "          [\"B\",20]]\n",
    "eventLenght = 8 #lenght in seconds we want to use to compute feature estimation\n",
    "results = {} #we will store the results in a dict for simplicity.\n",
    "for event in events:\n",
    "    startSample = sr * event[1] #samplerate of the signal multiplied by the onset of the event in s\n",
    "    endSample = startSample + (sr * eventLenght) #Final sample to use for estimation\n",
    "    results[event[0]] = {} #initialize the results\n",
    "    results[event[0]][\"ECG\"] = pysiology.heartrate.analyzeECG(ECG[startSample:endSample],sr) #analyze the ECG signal\n",
    "    results[event[0]][\"EMG\"] = pysiology.electromiography.analyzeEMG(EMG[startSample:endSample],sr) #analyze the EMG signal\n",
    "    results[event[0]][\"GSR\"] = pysiology.electrodermalactivity.analyzeGSR(GSR[startSample:endSample],sr) #analyze the GSR signal"
   ]
  },
  {
   "cell_type": "markdown",
   "metadata": {},
   "source": [
    "Results of features extraction are not store inside the results dictionary."
   ]
  },
  {
   "cell_type": "markdown",
   "metadata": {},
   "source": [
    "We can try to print some of the results.\n",
    "For example, the BPM of the two events."
   ]
  },
  {
   "cell_type": "code",
   "execution_count": 5,
   "metadata": {},
   "outputs": [
    {
     "name": "stdout",
     "output_type": "stream",
     "text": [
      "Example of ECG feature:\n",
      "BPM - A 97.5\n",
      "BPM - B 90.0\n",
      "Example of EMG feature:\n",
      "Peak Frequency - A 23.4375\n",
      "Peak Frequency - B 27.34375\n",
      "Example of GSR Feature:\n",
      "Decay Time - A 1.9\n",
      "Decay Time - B 2.2\n"
     ]
    }
   ],
   "source": [
    "#BPM from the ECG analysis\n",
    "print(\"Example of ECG feature:\")\n",
    "print(\"BPM - A\",results[\"A\"][\"ECG\"][\"bpm\"])\n",
    "print(\"BPM - B\",results[\"B\"][\"ECG\"][\"bpm\"])\n",
    "\n",
    "#peak frequency from the EMG analysis\n",
    "print(\"Example of EMG feature:\")\n",
    "print(\"Peak Frequency - A\",results[\"A\"][\"EMG\"][\"FrequencyDomain\"][\"PeakFrequency\"])\n",
    "print(\"Peak Frequency - B\",results[\"B\"][\"EMG\"][\"FrequencyDomain\"][\"PeakFrequency\"])\n",
    "\n",
    "print(\"Example of GSR Feature:\")\n",
    "print(\"Decay Time - A\",results[\"A\"][\"GSR\"][0][\"decayTime\"]) #here we use 0 beacuse GSR features are computed for each peak.\n",
    "print(\"Decay Time - B\",results[\"B\"][\"GSR\"][0][\"decayTime\"])"
   ]
  }
 ],
 "metadata": {
  "kernelspec": {
   "display_name": "Python 3",
   "language": "python",
   "name": "python3"
  },
  "language_info": {
   "codemirror_mode": {
    "name": "ipython",
    "version": 3
   },
   "file_extension": ".py",
   "mimetype": "text/x-python",
   "name": "python",
   "nbconvert_exporter": "python",
   "pygments_lexer": "ipython3",
   "version": "3.5.2"
  }
 },
 "nbformat": 4,
 "nbformat_minor": 2
}
